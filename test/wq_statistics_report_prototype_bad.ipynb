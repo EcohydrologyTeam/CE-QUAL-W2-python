{
 "cells": [
  {
   "cell_type": "code",
   "execution_count": 1,
   "metadata": {},
   "outputs": [],
   "source": [
    "import os\n",
    "from docx import Document\n",
    "from docx.enum.section import WD_ORIENT\n",
    "from docx.enum.table import WD_TABLE_ALIGNMENT\n",
    "from docx.enum.text import WD_ALIGN_PARAGRAPH\n",
    "import pandas as pd\n",
    "from typing import List\n",
    "from docx.shared import Pt, Inches, Cm\n",
    "import pypandoc\n",
    "\n",
    "import sys\n",
    "sys.path.append('../src')\n",
    "import cequalw2 as w2"
   ]
  },
  {
   "cell_type": "code",
   "execution_count": 2,
   "metadata": {},
   "outputs": [],
   "source": [
    "def change_orientation(document, orientation: str):\n",
    "    current_section = document.sections[-1]\n",
    "    new_width, new_height = current_section.page_height, current_section.page_width\n",
    "    if orientation.lower() == 'landscape':\n",
    "        current_section.orientation = WD_ORIENT.LANDSCAPE\n",
    "    elif orientation.lower() == 'portrait':\n",
    "        current_section.orientation = WD_ORIENT.PORTRAIT\n",
    "    else:\n",
    "        raise ValueError('Specify \"landscape\" or \"portrait\" for the orientation.')\n",
    "    current_section.page_width = new_width\n",
    "    current_section.page_height = new_height"
   ]
  },
  {
   "cell_type": "code",
   "execution_count": 3,
   "metadata": {},
   "outputs": [],
   "source": [
    "def format_cell(cell, **kwargs):\n",
    "    # Parse keyword arguments\n",
    "    table_font_size = kwargs.get('table_font_size', None)\n",
    "    bold = kwargs.get('bold', None)\n",
    "    paragraph_font_size = kwargs.get('paragraph_font_size', 11)\n",
    "    table_font_size = kwargs.get('table_font_size', 10)\n",
    "    cell_alignment = kwargs.get('cell_alignment', 'left')\n",
    "\n",
    "    paragraph=cell.paragraphs[0]\n",
    "    if cell_alignment.lower() == 'left':\n",
    "        paragraph.alignment = WD_ALIGN_PARAGRAPH.LEFT\n",
    "    elif cell_alignment.lower() == 'center':\n",
    "        paragraph.alignment = WD_ALIGN_PARAGRAPH.CENTER\n",
    "    elif cell_alignment.lower() == 'right':\n",
    "        paragraph.alignment = WD_ALIGN_PARAGRAPH.RIGHT\n",
    "    else:\n",
    "        raise ValueError('Alignment must be left, center, or right.')\n",
    "\n",
    "    # Get pointer\n",
    "    paragraph = cell.paragraphs[0]\n",
    "    run = paragraph.runs[0]\n",
    "    \n",
    "    # Format the cell\n",
    "    run.font.size = Pt(table_font_size)\n",
    "    if bold:\n",
    "        run.bold = True"
   ]
  },
  {
   "cell_type": "code",
   "execution_count": 4,
   "metadata": {},
   "outputs": [],
   "source": [
    "def set_col_widths(table, widths):\n",
    "    for row in table.rows:\n",
    "        for idx, width in enumerate(widths):\n",
    "            row.cells[idx].width = width"
   ]
  },
  {
   "cell_type": "code",
   "execution_count": 10,
   "metadata": {},
   "outputs": [],
   "source": [
    "def generate_report(data_frames: List[pd.DataFrame], **kwargs) -> Document:\n",
    "    \"\"\"\n",
    "    Generate a water quality model report with summary statistics using python-docx.\n",
    "\n",
    "    :param data_frames: List of Pandas DataFrames containing water quality data.\n",
    "    :type data_frames: List[pd.DataFrame]\n",
    "    :param **kwargs: Additional keyword arguments for model_name, location, and time_period.\n",
    "    :type **kwargs: Any\n",
    "    :return: The generated report document.\n",
    "    :rtype: docx.Document\n",
    "    \"\"\"\n",
    "\n",
    "    # Assign keyword arguments to variables\n",
    "    model_name = kwargs.get('model_name', None)\n",
    "    location = kwargs.get('location', None)\n",
    "    time_period = kwargs.get('time_period', None)\n",
    "    table_font_size = kwargs.get('table_font_size', 10)\n",
    "\n",
    "    # Create a new document\n",
    "    document = Document()\n",
    "\n",
    "    # Change orientation to landscape\n",
    "    change_orientation(document, \"landscape\")\n",
    "\n",
    "    # Add the report title\n",
    "    document.add_heading(\"Water Quality Model Report\", level=0)\n",
    "\n",
    "    # Add model information\n",
    "    document.add_heading(\"Model Information\", level=1)\n",
    "    if model_name:\n",
    "        document.add_paragraph(f\"Model Name: {model_name}\")\n",
    "    if location:\n",
    "        document.add_paragraph(f\"Location: {location}\")\n",
    "    if time_period:\n",
    "        document.add_paragraph(f\"Time Period: {time_period}\")\n",
    "\n",
    "    # Add data summary\n",
    "    document.add_heading(\"Data Summary\", level=1)\n",
    "    document.add_paragraph(\"Summary Statistics:\")\n",
    "\n",
    "    for df in data_frames:\n",
    "        # Compute summary statistics for the current dataframe\n",
    "        summary_statistics = df.describe().to_dict()\n",
    "        col1 = df.columns[0]\n",
    "        dict1 = summary_statistics[col1]\n",
    "        keys = dict1.keys()\n",
    "\n",
    "        # Add sub-heading for data filename\n",
    "        file_path = df.attrs['Filename']\n",
    "        directory, filename = os.path.split(file_path)\n",
    "        document.add_heading(filename, level=2)\n",
    "\n",
    "        # Create a table for summary statistics\n",
    "        table = document.add_table(rows=1, cols=len(df.columns) + 1)\n",
    "        table.autofit = True\n",
    "        table.style = \"Table Grid\"\n",
    "\n",
    "        # Add table headers\n",
    "        table_header_cells = table.rows[0].cells\n",
    "        cell = table_header_cells[0]\n",
    "        cell.text = \"Statistic\"\n",
    "        format_cell(cell, table_font_size=table_font_size, bold=True)\n",
    "        for j, col in enumerate(df.columns):\n",
    "            cell = table_header_cells[j + 1]\n",
    "            cell.text = col\n",
    "            format_cell(cell, table_font_size=table_font_size, bold=True, cell_alignment=\"center\")\n",
    "\n",
    "        # Populate the table\n",
    "        for i, key in enumerate(keys):\n",
    "            row = table.add_row().cells\n",
    "            cell = row[0]\n",
    "            cell.text = key\n",
    "            format_cell(cell, table_font_size=table_font_size, bold=True)\n",
    "            table_header_cells = table.rows[i + 1].cells\n",
    "            for j, col in enumerate(df.columns):\n",
    "                d = summary_statistics[col][key]\n",
    "                cell = table_header_cells[j + 1]\n",
    "                cell.text = f'{d:.1f}'\n",
    "                format_cell(cell, table_font_size=table_font_size, bold=False, cell_alignment=\"right\")\n",
    "\n",
    "        column_widths = [Inches(0.1)]\n",
    "        for col in df.columns:\n",
    "            column_widths.append(Inches(0.1))\n",
    "        set_col_widths(table, column_widths)\n",
    "\n",
    "\n",
    "    return document\n"
   ]
  },
  {
   "cell_type": "code",
   "execution_count": 11,
   "metadata": {},
   "outputs": [],
   "source": [
    "# Example data for the report\n",
    "df1 = w2.read('data/BerlinMilton2006/2006_DeerCrk_Qin.npt', 2006, ['Inflow'])\n",
    "df2 = w2.read('data/BerlinMilton2006/2006_DeerCrk_Cin.npt', 2006, ['TDS', 'SO4', 'Cl', 'ISS', 'OP', 'NH4', 'NOx', 'Fe', 'LDOM', 'RDOM', 'LPOM', 'RPOM', 'BG', 'DIAT', 'OTH', 'DO'])\n",
    "\n",
    "model_name = \"CE-QUAL-W2\"\n",
    "location = \"Berlin and Milton\"\n",
    "time_period = \"2006\"\n",
    "\n",
    "# Generate the report\n",
    "report = generate_report([df1, df2], model_name=model_name, location=location, time_period=time_period,\n",
    "    table_font_size=6)\n",
    "\n",
    "# Save the report to a file\n",
    "report.save(\"water_quality_report.docx\")"
   ]
  },
  {
   "cell_type": "code",
   "execution_count": 12,
   "metadata": {},
   "outputs": [
    {
     "data": {
      "text/plain": [
       "''"
      ]
     },
     "execution_count": 12,
     "metadata": {},
     "output_type": "execute_result"
    }
   ],
   "source": [
    "pypandoc.convert_file('water_quality_report.docx', 'pdf', outputfile='water_quality_report.pdf', extra_args=['--pdf-engine=xelatex', '-V', 'geometry:margin=1.5cm,landscape'])"
   ]
  },
  {
   "cell_type": "code",
   "execution_count": null,
   "metadata": {},
   "outputs": [],
   "source": []
  }
 ],
 "metadata": {
  "kernelspec": {
   "display_name": "clearwater",
   "language": "python",
   "name": "python3"
  },
  "language_info": {
   "codemirror_mode": {
    "name": "ipython",
    "version": 3
   },
   "file_extension": ".py",
   "mimetype": "text/x-python",
   "name": "python",
   "nbconvert_exporter": "python",
   "pygments_lexer": "ipython3",
   "version": "3.11.3"
  },
  "orig_nbformat": 4
 },
 "nbformat": 4,
 "nbformat_minor": 2
}
