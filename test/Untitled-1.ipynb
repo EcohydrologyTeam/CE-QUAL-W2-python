{
 "cells": [
  {
   "cell_type": "code",
   "execution_count": 1,
   "metadata": {},
   "outputs": [],
   "source": [
    "from docx import Document\n",
    "from docx.shared import Pt, RGBColor\n",
    "import random\n",
    "\n",
    "\n",
    "# Create a new document\n",
    "doc = Document()\n",
    "\n",
    "# Add a table with a header in 10-point font\n",
    "table = doc.add_table(rows=21, cols=5)\n",
    "table.autofit = True\n",
    "table.style = \"Table Grid\"\n",
    "table_header_cells = table.rows[0].cells\n",
    "table_header_cells[0].text = \"Time\"\n",
    "table_header_cells[1].text = \"Temperature 1\"\n",
    "table_header_cells[2].text = \"Temperature 2\"\n",
    "table_header_cells[3].text = \"Temperature 3\"\n",
    "table_header_cells[4].text = \"Temperature 4\"\n",
    "for cell in table_header_cells:\n",
    "    paragraph = cell.paragraphs[0]\n",
    "    run = paragraph.runs[0]\n",
    "    run.font.size = Pt(10)\n",
    "    run.bold = True\n",
    "    run.font.color.rgb = RGBColor(0x00, 0x00, 0x00)  # Black color\n",
    "\n",
    "# Populate the table with water temperature data\n",
    "for i in range(1, 21):\n",
    "    row_cells = table.rows[i].cells\n",
    "    row_cells[0].text = f\"Time {i}\"\n",
    "    for j in range(1, 5):\n",
    "        temperature = random.uniform(10.0, 30.0)\n",
    "        row_cells[j].text = f\"{temperature:.1f}\"\n",
    "        # Set font size for non-header rows\n",
    "        paragraph = row_cells[j].paragraphs[0]\n",
    "        run = paragraph.runs[0]\n",
    "        run.font.size = Pt(8)\n",
    "\n",
    "# Save the document\n",
    "doc.save(\"example.docx\")\n"
   ]
  },
  {
   "cell_type": "code",
   "execution_count": null,
   "metadata": {},
   "outputs": [],
   "source": []
  }
 ],
 "metadata": {
  "kernelspec": {
   "display_name": "clearwater",
   "language": "python",
   "name": "python3"
  },
  "language_info": {
   "codemirror_mode": {
    "name": "ipython",
    "version": 3
   },
   "file_extension": ".py",
   "mimetype": "text/x-python",
   "name": "python",
   "nbconvert_exporter": "python",
   "pygments_lexer": "ipython3",
   "version": "3.11.3"
  },
  "orig_nbformat": 4
 },
 "nbformat": 4,
 "nbformat_minor": 2
}
